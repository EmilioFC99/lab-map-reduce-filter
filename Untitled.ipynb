{
 "cells": [
  {
   "cell_type": "markdown",
   "metadata": {},
   "source": [
    "The map() function executes a specified function for each item in an iterable. The item is sent to the function as a parameter."
   ]
  },
  {
   "cell_type": "code",
   "execution_count": 1,
   "metadata": {},
   "outputs": [],
   "source": [
    "txt = ['lambda functions are anonymous functions.',\n",
    "       'anonymous functions dont have a name.',\n",
    "       'functions are objects in Python.']"
   ]
  },
  {
   "cell_type": "code",
   "execution_count": 2,
   "metadata": {},
   "outputs": [],
   "source": [
    "mark = map(lambda s: (True,s) if 'anonymous' in s else (False,s),txt) \n",
    "\n",
    "# no se lo aplicas a text, se lo aplicas a cada item de text"
   ]
  },
  {
   "cell_type": "code",
   "execution_count": 3,
   "metadata": {},
   "outputs": [
    {
     "name": "stdout",
     "output_type": "stream",
     "text": [
      "(True, 'lambda functions are anonymous functions.')\n",
      "(True, 'anonymous functions dont have a name.')\n",
      "(False, 'functions are objects in Python.')\n"
     ]
    }
   ],
   "source": [
    "for i in mark:\n",
    "    print(i)"
   ]
  },
  {
   "cell_type": "code",
   "execution_count": 4,
   "metadata": {},
   "outputs": [],
   "source": [
    "slicing = map(lambda s: s.split(),txt)"
   ]
  },
  {
   "cell_type": "code",
   "execution_count": 5,
   "metadata": {},
   "outputs": [
    {
     "name": "stdout",
     "output_type": "stream",
     "text": [
      "['lambda', 'functions', 'are', 'anonymous', 'functions.']\n",
      "['anonymous', 'functions', 'dont', 'have', 'a', 'name.']\n",
      "['functions', 'are', 'objects', 'in', 'Python.']\n"
     ]
    }
   ],
   "source": [
    "for i in slicing:\n",
    "    print(i)"
   ]
  },
  {
   "cell_type": "markdown",
   "metadata": {},
   "source": [
    ".map() es como utilizar un for para recorrer y aplicar una funcion a cada item dentro de tu iterable"
   ]
  },
  {
   "cell_type": "code",
   "execution_count": 7,
   "metadata": {},
   "outputs": [],
   "source": [
    "txt = ['lambda functions are anonymous functions.',\n",
    "       'anonymous functions dont have a name.',\n",
    "       'functions are objects in Python.']\n",
    "\n",
    "def splicer(txt):\n",
    "    if len(txt) % 2 == 0:\n",
    "        return \"EVEN\",txt\n",
    "    else:\n",
    "        return txt[:5]"
   ]
  },
  {
   "cell_type": "code",
   "execution_count": 9,
   "metadata": {},
   "outputs": [
    {
     "name": "stdout",
     "output_type": "stream",
     "text": [
      "['lambd', 'anony', ('EVEN', 'functions are objects in Python.')]\n"
     ]
    }
   ],
   "source": [
    "splice = list(map(splicer,txt))\n",
    "print(splice)"
   ]
  },
  {
   "cell_type": "code",
   "execution_count": 15,
   "metadata": {},
   "outputs": [],
   "source": [
    "def pot(n):\n",
    "    return lambda x: x**n"
   ]
  },
  {
   "cell_type": "code",
   "execution_count": 17,
   "metadata": {},
   "outputs": [
    {
     "name": "stdout",
     "output_type": "stream",
     "text": [
      "[1024, 9765625, 60466176, 576650390625, 174887470365513049]\n",
      "[32, 3125, 7776, 759375, 418195493]\n"
     ]
    }
   ],
   "source": [
    "pot10 = pot(10)\n",
    "\n",
    "numbers = [2,5,6,15,53]\n",
    "\n",
    "print(list(map(pot10,numbers)))\n",
    "\n",
    "#tambien se puede hacer esto, sin necesidad de crear una funcion con anterioridad\n",
    "print(list(map(pot(5),numbers)))"
   ]
  },
  {
   "cell_type": "markdown",
   "metadata": {},
   "source": [
    "FILTER FUNCTION\n",
    "\n",
    "Solo recibe  una funcion  que regresa un bool (True or False\n",
    "\n",
    "The filter() function returns an iterator were the items are filtered through a function to test if the item is accepted or not."
   ]
  },
  {
   "cell_type": "code",
   "execution_count": null,
   "metadata": {},
   "outputs": [],
   "source": []
  }
 ],
 "metadata": {
  "kernelspec": {
   "display_name": "Python 3.7 (tensorflow)",
   "language": "python",
   "name": "tensorflow"
  },
  "language_info": {
   "codemirror_mode": {
    "name": "ipython",
    "version": 3
   },
   "file_extension": ".py",
   "mimetype": "text/x-python",
   "name": "python",
   "nbconvert_exporter": "python",
   "pygments_lexer": "ipython3",
   "version": "3.7.7"
  }
 },
 "nbformat": 4,
 "nbformat_minor": 4
}
